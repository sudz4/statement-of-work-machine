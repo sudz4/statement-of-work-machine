{
 "cells": [
  {
   "cell_type": "markdown",
   "metadata": {},
   "source": [
    "| BASELINE TASKS | SOW Template Setup |\n",
    "| ----------- | ----------- |"
   ]
  },
  {
   "cell_type": "code",
   "execution_count": 1,
   "metadata": {},
   "outputs": [],
   "source": [
    "import xlwings as xw\n",
    "from openpyxl import Workbook, load_workbook\n",
    "import xlsxwriter \n",
    "\n",
    "import pandas as pd\n",
    "import numpy as np\n",
    "import datetime as dt \n",
    "import time\n",
    "import sys\n",
    "\n",
    "\"\"\"\n",
    "Latest xlwings release: v0.27.15\n",
    "https://www.xlwings.org/\n",
    "\n",
    "\"\"\"\n",
    "xw.__version__ \n",
    "\n",
    "from appscript import k"
   ]
  },
  {
   "cell_type": "code",
   "execution_count": 2,
   "metadata": {},
   "outputs": [],
   "source": [
    "# Connect to workbook\n",
    "book_number = 'book01.xlsx'\n",
    "wb = xw.Book(book_number)\n",
    "sheet = wb.sheets[0]"
   ]
  },
  {
   "cell_type": "code",
   "execution_count": 3,
   "metadata": {},
   "outputs": [
    {
     "name": "stdout",
     "output_type": "stream",
     "text": [
      "<App [excel] 4695>\n",
      "<Book [book01.xlsx]>\n",
      "<Sheet [book01.xlsx]Sheet1>\n"
     ]
    }
   ],
   "source": [
    "\"\"\"\n",
    "Verify active excel workbook and sheet\n",
    "\"\"\"\n",
    "print(xw.apps.active)\n",
    "print(xw.books.active)\n",
    "print(xw.sheets.active)"
   ]
  },
  {
   "cell_type": "code",
   "execution_count": 4,
   "metadata": {},
   "outputs": [],
   "source": [
    "# Import baseline task data from excel\n",
    "base_env_df = pd.read_excel('sow_input_data.xlsx', sheet_name = 'ENVISION')\n",
    "base_int_df = pd.read_excel('sow_input_data.xlsx', sheet_name = 'INITIATE')\n",
    "base_def_df = pd.read_excel('sow_input_data.xlsx', sheet_name = 'DEFINE')\n",
    "base_des_df = pd.read_excel('sow_input_data.xlsx', sheet_name = 'DESIGN')\n",
    "base_bld_df = pd.read_excel('sow_input_data.xlsx', sheet_name = 'BUILD')\n",
    "base_trn_df = pd.read_excel('sow_input_data.xlsx', sheet_name = 'TRANSITION')\n",
    "base_cls_df = pd.read_excel('sow_input_data.xlsx', sheet_name = 'CLOSE')"
   ]
  },
  {
   "cell_type": "code",
   "execution_count": 5,
   "metadata": {},
   "outputs": [
    {
     "data": {
      "text/html": [
       "<div>\n",
       "<style scoped>\n",
       "    .dataframe tbody tr th:only-of-type {\n",
       "        vertical-align: middle;\n",
       "    }\n",
       "\n",
       "    .dataframe tbody tr th {\n",
       "        vertical-align: top;\n",
       "    }\n",
       "\n",
       "    .dataframe thead th {\n",
       "        text-align: right;\n",
       "    }\n",
       "</style>\n",
       "<table border=\"1\" class=\"dataframe\">\n",
       "  <thead>\n",
       "    <tr style=\"text-align: right;\">\n",
       "      <th></th>\n",
       "      <th>task</th>\n",
       "      <th>task_details</th>\n",
       "      <th>role</th>\n",
       "      <th>hours</th>\n",
       "    </tr>\n",
       "  </thead>\n",
       "  <tbody>\n",
       "    <tr>\n",
       "      <th>0</th>\n",
       "      <td>Project Initiation</td>\n",
       "      <td>Conduct a \"soft launch\" initial project planni...</td>\n",
       "      <td>EM</td>\n",
       "      <td>4</td>\n",
       "    </tr>\n",
       "    <tr>\n",
       "      <th>1</th>\n",
       "      <td>Project Pre-Work</td>\n",
       "      <td>Prepare and deliver \"pre-work\" materials.\\n\\nP...</td>\n",
       "      <td>BPC</td>\n",
       "      <td>2</td>\n",
       "    </tr>\n",
       "  </tbody>\n",
       "</table>\n",
       "</div>"
      ],
      "text/plain": [
       "                 task                                       task_details role  \\\n",
       "0  Project Initiation  Conduct a \"soft launch\" initial project planni...   EM   \n",
       "1    Project Pre-Work  Prepare and deliver \"pre-work\" materials.\\n\\nP...  BPC   \n",
       "\n",
       "   hours  \n",
       "0      4  \n",
       "1      2  "
      ]
     },
     "execution_count": 5,
     "metadata": {},
     "output_type": "execute_result"
    }
   ],
   "source": [
    "base_env_df"
   ]
  },
  {
   "cell_type": "code",
   "execution_count": 6,
   "metadata": {},
   "outputs": [],
   "source": [
    "# Write dataframes to SOW excel doc\n",
    "sheet['env_nr'][1:,1:].options(index=False, header=False).value = base_env_df\n",
    "sheet['int_nr'][1:,1:].options(index=False, header=False).value = base_int_df\n",
    "sheet['def_nr'][1:,1:].options(index=False, header=False).value = base_def_df\n",
    "sheet['des_nr'][1:,1:].options(index=False, header=False).value = base_des_df\n",
    "sheet['bld_nr'][1:,1:].options(index=False, header=False).value = base_bld_df\n",
    "sheet['trn_nr'][1:,1:].options(index=False, header=False).value = base_trn_df\n",
    "sheet['cls_nr'][1:,1:].options(index=False, header=False).value = base_cls_df"
   ]
  },
  {
   "cell_type": "code",
   "execution_count": 7,
   "metadata": {},
   "outputs": [],
   "source": [
    "# FORMULAS - QA / TESTING\n",
    "\n",
    "# Planning\n",
    "sheet['trn_nr'][3,4].formula = '=ROUNDUP(E138*.05,0)' # IMPORTANT only QA hours from BUILD phase\n",
    "sheet['trn_nr'][4,4].formula = '=ROUNDUP(E138*.05,0)'\n",
    "\n",
    "# Executing\n",
    "sheet['trn_nr'][5,4].formula = '=ROUNDUP(E138*.05,0)'\n",
    "sheet['trn_nr'][6,4].formula = '=ROUNDUP(E138*.05,0)'"
   ]
  },
  {
   "cell_type": "code",
   "execution_count": 8,
   "metadata": {},
   "outputs": [],
   "source": [
    "# SAVE\n",
    "book_number = 'book01.xlsx'\n",
    "wb.save(book_number)"
   ]
  },
  {
   "cell_type": "markdown",
   "metadata": {},
   "source": [
    "| END OF PROGRAM |\n",
    "| ----------- |"
   ]
  },
  {
   "cell_type": "markdown",
   "metadata": {},
   "source": []
  }
 ],
 "metadata": {
  "kernelspec": {
   "display_name": "sowmachine_venv",
   "language": "python",
   "name": "python3"
  },
  "language_info": {
   "codemirror_mode": {
    "name": "ipython",
    "version": 3
   },
   "file_extension": ".py",
   "mimetype": "text/x-python",
   "name": "python",
   "nbconvert_exporter": "python",
   "pygments_lexer": "ipython3",
   "version": "3.11.1"
  },
  "orig_nbformat": 4,
  "vscode": {
   "interpreter": {
    "hash": "fb97792c95ecc40909c77d7c0c5a2e301450a97269f294267b9ea907136fa9f0"
   }
  }
 },
 "nbformat": 4,
 "nbformat_minor": 2
}
