{
 "cells": [
  {
   "cell_type": "markdown",
   "metadata": {},
   "source": [
    "| CLEAN UP | Remove placeholder values |\n",
    "| ----------- | ----------- |"
   ]
  },
  {
   "cell_type": "code",
   "execution_count": 35,
   "metadata": {},
   "outputs": [],
   "source": [
    "import xlwings as xw\n",
    "from openpyxl import Workbook, load_workbook\n",
    "import xlsxwriter \n",
    "\n",
    "import pandas as pd\n",
    "import numpy as np\n",
    "import datetime as dt \n",
    "import time\n",
    "import sys\n",
    "\n",
    "\"\"\"\n",
    "Latest xlwings release: v0.27.15\n",
    "https://www.xlwings.org/\n",
    "\n",
    "\"\"\"\n",
    "xw.__version__ \n",
    "\n",
    "from appscript import k"
   ]
  },
  {
   "cell_type": "code",
   "execution_count": 36,
   "metadata": {},
   "outputs": [],
   "source": [
    "# Connect to workbook\n",
    "book_number = 'book01.xlsx'\n",
    "wb = xw.Book(book_number)\n",
    "sheet = wb.sheets[0]"
   ]
  },
  {
   "cell_type": "code",
   "execution_count": 37,
   "metadata": {},
   "outputs": [
    {
     "data": {
      "text/plain": [
       "'\\nDelete Placeholders\\n'"
      ]
     },
     "execution_count": 37,
     "metadata": {},
     "output_type": "execute_result"
    }
   ],
   "source": [
    "\"\"\"\n",
    "Delete Placeholders\n",
    "\"\"\""
   ]
  },
  {
   "cell_type": "code",
   "execution_count": 38,
   "metadata": {},
   "outputs": [],
   "source": [
    "# Harcode delete CLOSE placeholders\n",
    "sheet['A166:G177'].delete(shift='up')"
   ]
  },
  {
   "cell_type": "code",
   "execution_count": 39,
   "metadata": {},
   "outputs": [],
   "source": [
    "# Harcode delete TRANSITION placeholders\n",
    "sheet['A151:G155'].delete(shift='up')"
   ]
  },
  {
   "cell_type": "code",
   "execution_count": 40,
   "metadata": {},
   "outputs": [],
   "source": [
    "# Harcode delete BUILD placeholders\n",
    "sheet['A125:G134'].delete(shift='up')"
   ]
  },
  {
   "cell_type": "code",
   "execution_count": 41,
   "metadata": {},
   "outputs": [],
   "source": [
    "# Harcode delete DESIGN placeholders\n",
    "sheet['A84:G95'].delete(shift='up')"
   ]
  },
  {
   "cell_type": "code",
   "execution_count": 42,
   "metadata": {},
   "outputs": [],
   "source": [
    "# Harcode delete DEFINE placeholders\n",
    "sheet['A65:G75'].delete(shift='up')"
   ]
  },
  {
   "cell_type": "code",
   "execution_count": 43,
   "metadata": {},
   "outputs": [],
   "source": [
    "# Harcode delete INITIATE placeholders\n",
    "sheet['A29:G37'].delete(shift='up')"
   ]
  },
  {
   "cell_type": "code",
   "execution_count": 44,
   "metadata": {},
   "outputs": [],
   "source": [
    "# Harcode delete ENVISION placeholders\n",
    "sheet['A5:G17'].delete(shift='up')"
   ]
  },
  {
   "cell_type": "code",
   "execution_count": 45,
   "metadata": {},
   "outputs": [],
   "source": [
    "# Harcode delete RATE CHARTS placeholders\n",
    "sheet['A136:G136'].delete(shift='up')"
   ]
  },
  {
   "cell_type": "code",
   "execution_count": 46,
   "metadata": {},
   "outputs": [],
   "source": [
    "# Harcode delete RATE MAIN placeholders\n",
    "sheet['A124:G124'].delete(shift='up')"
   ]
  },
  {
   "cell_type": "code",
   "execution_count": 47,
   "metadata": {},
   "outputs": [],
   "source": [
    "# SAVE\n",
    "book_number = 'book01.xlsx'\n",
    "wb.save(book_number)"
   ]
  },
  {
   "cell_type": "markdown",
   "metadata": {},
   "source": [
    "| END OF PROGRAM |\n",
    "| ----------- |\n",
    "| Notes for future DEV, and reference code below |\n"
   ]
  },
  {
   "cell_type": "code",
   "execution_count": 48,
   "metadata": {},
   "outputs": [],
   "source": [
    "# TEST / DEMO - hardcode drop placeholders\n",
    "# for i in sheet['des_nr'][:,1]:\n",
    "#     if i.value == 'XXX':\n",
    "#         row_loc = i.row\n",
    "#         # print(row_loc)\n",
    "#         sheet['des_nr'][row_loc,:].delete(shift='up')"
   ]
  },
  {
   "cell_type": "code",
   "execution_count": 49,
   "metadata": {},
   "outputs": [],
   "source": [
    "# Get a list of named ranges in sheet\n",
    "# for name in wb.names:\n",
    "#     #print(name.name, name.refers_to_range)\n",
    "    \n",
    "#     nr_list = name.name\n",
    "#     print(nr_list)"
   ]
  },
  {
   "cell_type": "code",
   "execution_count": 50,
   "metadata": {},
   "outputs": [],
   "source": [
    "# IMPORTANT - Remove named ranges for cleanup\n",
    "# if len(wb.names) > 0:\n",
    "#     #print(len(wb.names))\n",
    "#     for n in range(0, len(wb.names)):\n",
    "# \t    wb.names[0].delete()"
   ]
  },
  {
   "cell_type": "code",
   "execution_count": 51,
   "metadata": {},
   "outputs": [],
   "source": [
    "# Verify there are no named ranges\n",
    "# for name in wb.names:\n",
    "#     print(name.name, name.refers_to_range)"
   ]
  },
  {
   "cell_type": "code",
   "execution_count": 52,
   "metadata": {},
   "outputs": [],
   "source": [
    "# Create one (1) named range\n",
    "# sheet['A2:G180'].name = 'clean_nr'"
   ]
  },
  {
   "cell_type": "code",
   "execution_count": 53,
   "metadata": {},
   "outputs": [],
   "source": [
    "# for i in sheet['clean_nr'][:,1]:\n",
    "#     if i.value == 'XXX':\n",
    "#         row_loc = i.row\n",
    "#         sheet['clean_nr'][row_loc,:].delete(shift='up')"
   ]
  },
  {
   "cell_type": "code",
   "execution_count": 54,
   "metadata": {},
   "outputs": [],
   "source": [
    "# for i in sheet['env_nr'][0:,1]:\n",
    "#     if i.value == 1:\n",
    "#         sheet['env_nr'][i.row,:].delete()"
   ]
  },
  {
   "cell_type": "code",
   "execution_count": 55,
   "metadata": {},
   "outputs": [],
   "source": [
    "# sheet['A1'].current_region.name = 'cleanup_rng'\n",
    "\n",
    "# for i in sheet['cleanup_rng'][:-1,:]:\n",
    "#     print(i)\n",
    "    # if i.value == 'pre-sales':\n",
    "    #     # delete entire row for all rows where at least one cell value == 'pre-sales'\n",
    "    #     # sheet.range(i.row,1).delete()\n",
    "    #     sheet['cleanup_rng'][i.row,:].delete()"
   ]
  },
  {
   "cell_type": "code",
   "execution_count": 56,
   "metadata": {},
   "outputs": [],
   "source": [
    "# sheet['A1'].current_region.name = 'cleanup_rng'\n",
    "\n",
    "# for i in sheet['cleanup_rng']:\n",
    "#     if i.value == 'pre-sales':\n",
    "#         ps_cell_row_num = i.row\n",
    "#         ps_cell_col_num = i.column"
   ]
  },
  {
   "cell_type": "code",
   "execution_count": 57,
   "metadata": {},
   "outputs": [],
   "source": [
    "# print(ps_cell_row_num)\n",
    "# print(ps_cell_col_num)"
   ]
  },
  {
   "cell_type": "code",
   "execution_count": 58,
   "metadata": {},
   "outputs": [],
   "source": [
    "# sheet['A1'].current_region.name = 'cleanup_rng'\n",
    "# filter_word = 'pre-sales'\n",
    "\n",
    "# sheet['cleanup_rng'][0:,1:3].options(ndim=2).value == ['pre-sales', 'pre-sales']\n",
    "\n",
    "\n",
    "    "
   ]
  },
  {
   "cell_type": "code",
   "execution_count": 59,
   "metadata": {},
   "outputs": [],
   "source": [
    "# cup_rng = sheet['A1'].current_region\n",
    "\n",
    "# # ph_list = sheet['env_nr'][3,:].value\n",
    "\n",
    "# for i in cup_rng:\n",
    "#     if i.value == 'pre-sales':\n",
    "#         print(i)"
   ]
  },
  {
   "cell_type": "code",
   "execution_count": 60,
   "metadata": {},
   "outputs": [],
   "source": [
    "# # Create placeholder list from one row\n",
    "# ph_list = sheet['env_nr'][3,:].value\n",
    "\n",
    "# ph_list"
   ]
  },
  {
   "cell_type": "code",
   "execution_count": 61,
   "metadata": {},
   "outputs": [],
   "source": [
    "# clean_filt = sheet['env_nr'][:,1:3] == 'pre-sales'\n",
    "\n",
    "# # clean_filt"
   ]
  },
  {
   "cell_type": "code",
   "execution_count": 62,
   "metadata": {},
   "outputs": [],
   "source": [
    "# Tooltips\n",
    "# dir(sheet['A1'])"
   ]
  },
  {
   "cell_type": "code",
   "execution_count": 63,
   "metadata": {},
   "outputs": [],
   "source": [
    "# sheet['A1'].api"
   ]
  },
  {
   "cell_type": "code",
   "execution_count": 64,
   "metadata": {},
   "outputs": [],
   "source": [
    "# cup_rng = sheet['A1'].current_region\n",
    "\n",
    "# for i in cup_rng:\n",
    "#     if i.value == ('pre-sales' and 'placeholder'):\n",
    "#         print(i)\n"
   ]
  },
  {
   "cell_type": "code",
   "execution_count": 65,
   "metadata": {},
   "outputs": [],
   "source": [
    "# for i in sheet['env_nr'][-1,:]:\n",
    "#     i = i + 1\n",
    "#     if sheet['env_nr']('A' + str(i)).value == 'pre-sales' or 'placeholder':\n",
    "#         xw.Range('A' + str(i)).clear()\n",
    "#         continue\n",
    "#     else:\n",
    "#         continue"
   ]
  },
  {
   "cell_type": "code",
   "execution_count": 66,
   "metadata": {},
   "outputs": [],
   "source": [
    "# for i in sheet['env_nr'][:,1]:\n",
    "#     if i.value != 'pre-sales':\n",
    "#         pass\n",
    "#     elif i.value == 'pre-sales':\n",
    "#         print(i)\n",
    "        \n",
    "        "
   ]
  },
  {
   "cell_type": "code",
   "execution_count": 67,
   "metadata": {},
   "outputs": [],
   "source": [
    "# del_rng_list = []\n",
    "\n",
    "# for i in sheet['env_nr'][:,1]:\n",
    "#     if i.value == 'pre-sales':\n",
    "#         del_rng_list.append(i)\n",
    "               \n",
    "# print(del_rng_list)\n"
   ]
  },
  {
   "cell_type": "code",
   "execution_count": 68,
   "metadata": {},
   "outputs": [],
   "source": [
    "# ph_list = []\n",
    "\n",
    "# for i in sheet['env_nr'][:,1]:\n",
    "#     if i.value == 'pre-sales':\n",
    "#         ph_list.append(i)\n",
    "        \n",
    "        \n",
    "        "
   ]
  }
 ],
 "metadata": {
  "kernelspec": {
   "display_name": "sowmachine_venv",
   "language": "python",
   "name": "python3"
  },
  "language_info": {
   "codemirror_mode": {
    "name": "ipython",
    "version": 3
   },
   "file_extension": ".py",
   "mimetype": "text/x-python",
   "name": "python",
   "nbconvert_exporter": "python",
   "pygments_lexer": "ipython3",
   "version": "3.11.1"
  },
  "orig_nbformat": 4,
  "vscode": {
   "interpreter": {
    "hash": "fb97792c95ecc40909c77d7c0c5a2e301450a97269f294267b9ea907136fa9f0"
   }
  }
 },
 "nbformat": 4,
 "nbformat_minor": 2
}
